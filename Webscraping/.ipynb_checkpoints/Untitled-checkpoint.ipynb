{
 "cells": [
  {
   "cell_type": "code",
   "execution_count": 1,
   "id": "e32d441c",
   "metadata": {},
   "outputs": [],
   "source": [
    "import requests, bs4\n",
    "from bs4 import BeautifulSoup as bs\n",
    "import pandas as pd"
   ]
  },
  {
   "cell_type": "code",
   "execution_count": 3,
   "id": "d08cc733",
   "metadata": {},
   "outputs": [],
   "source": [
    "url = 'https://coinmarketcap.com/'\n",
    "response = requests.get(url)\n",
    "status = response.status_code\n",
    "if status == 200:\n",
    "    page = response.text\n",
    "    soup = bs(page)\n",
    "else:\n",
    "    print(f'Oops! Received status code{status}')"
   ]
  },
  {
   "cell_type": "code",
   "execution_count": 93,
   "id": "26e39363",
   "metadata": {},
   "outputs": [
    {
     "data": {
      "text/plain": [
       "[{None},\n",
       " {None},\n",
       " {None},\n",
       " {<a class=\"cmc-link\" href=\"/currencies/bitcoin/markets/\"><span>$57,185.84</span></a>},\n",
       " {<a class=\"cmc-link\" href=\"/currencies/ethereum/markets/\"><span>$4,177.17</span></a>},\n",
       " {<a class=\"cmc-link\" href=\"/currencies/binance-coin/markets/\"><span>$569.61</span></a>},\n",
       " {<a class=\"cmc-link\" href=\"/currencies/tether/markets/\"><span>$1.00</span></a>},\n",
       " {<a class=\"cmc-link\" href=\"/currencies/solana/markets/\"><span>$218.49</span></a>},\n",
       " {<a class=\"cmc-link\" href=\"/currencies/cardano/markets/\"><span>$1.80</span></a>},\n",
       " {<a class=\"cmc-link\" href=\"/currencies/xrp/markets/\"><span>$1.05</span></a>},\n",
       " {<a class=\"cmc-link\" href=\"/currencies/polkadot-new/markets/\"><span>$39.79</span></a>},\n",
       " {<a class=\"cmc-link\" href=\"/currencies/usd-coin/markets/\"><span>$0.9986</span></a>},\n",
       " {<a class=\"cmc-link\" href=\"/currencies/dogecoin/markets/\"><span>$0.2225</span></a>}]"
      ]
     },
     "execution_count": 93,
     "metadata": {},
     "output_type": "execute_result"
    }
   ],
   "source": [
    "import re\n",
    "list1 = []\n",
    "\n",
    "for div in soup.find_all(class_= 'sc-131di3y-0 cLgOOr'):\n",
    "    title_tag = div.find(class_='cmc-link')\n",
    "    title = title_tag\n",
    "    price = title\n",
    "    list1.append({price})\n",
    "    \n",
    "list1\n",
    "\n",
    "\n"
   ]
  },
  {
   "cell_type": "code",
   "execution_count": 113,
   "id": "98982afa",
   "metadata": {},
   "outputs": [
    {
     "data": {
      "text/plain": [
       "['$57,185.84',\n",
       " '$4,177.17',\n",
       " '$569.61',\n",
       " '$1.00',\n",
       " '$218.49',\n",
       " '$1.80',\n",
       " '$1.05',\n",
       " '$39.79',\n",
       " '$0.9986',\n",
       " '$0.2225']"
      ]
     },
     "execution_count": 113,
     "metadata": {},
     "output_type": "execute_result"
    }
   ],
   "source": [
    "list2 = []\n",
    "\n",
    "for i in range(3, len(list1)):\n",
    "    word = list1[i]\n",
    "    word2 = list(word)\n",
    "    list2.append(word2[0].text)\n",
    "    \n",
    "list2\n",
    "\n"
   ]
  },
  {
   "cell_type": "code",
   "execution_count": 135,
   "id": "62ea6512",
   "metadata": {},
   "outputs": [
    {
     "data": {
      "text/plain": [
       "['BTC', 'ETH', 'BNB', 'USDT', 'SOL', 'ADA', 'XRP', 'DOT', 'USDC', 'DOGE']"
      ]
     },
     "execution_count": 135,
     "metadata": {},
     "output_type": "execute_result"
    }
   ],
   "source": [
    "\n",
    "\n",
    "list_ticker = []\n",
    "\n",
    "for div in soup.find_all(class_= 'sc-1eb5slv-0 gGIpIK coin-item-symbol'):\n",
    "    ticker = div.next\n",
    "    list_ticker.append({ticker})\n",
    "    \n",
    "\n",
    "list_ticker\n",
    "\n",
    "ticker = list_ticker[9]\n",
    "ticker2 = list(ticker)\n",
    "ticker2[0]\n",
    "\n",
    "list_ticker2 = []\n",
    "\n",
    "for i in range(9, len(list_ticker)):\n",
    "    ticker = list_ticker[i]\n",
    "    ticker2 = list(ticker)\n",
    "    list_ticker2.append(ticker2[0])\n",
    "\n",
    "list_ticker2"
   ]
  },
  {
   "cell_type": "code",
   "execution_count": 138,
   "id": "16b4371e",
   "metadata": {},
   "outputs": [
    {
     "data": {
      "text/plain": [
       "{'BTC': '$57,185.84',\n",
       " 'ETH': '$4,177.17',\n",
       " 'BNB': '$569.61',\n",
       " 'USDT': '$1.00',\n",
       " 'SOL': '$218.49',\n",
       " 'ADA': '$1.80',\n",
       " 'XRP': '$1.05',\n",
       " 'DOT': '$39.79',\n",
       " 'USDC': '$0.9986',\n",
       " 'DOGE': '$0.2225'}"
      ]
     },
     "execution_count": 138,
     "metadata": {},
     "output_type": "execute_result"
    }
   ],
   "source": [
    "ticker_price = dict(zip(list_ticker2, list2))\n",
    "ticker_price"
   ]
  },
  {
   "cell_type": "code",
   "execution_count": null,
   "id": "c49e5db5",
   "metadata": {},
   "outputs": [],
   "source": [
    "def filter_out(words):\n",
    "    result = re.search(\"/currencies/(.*)/markets\", words)\n",
    "    \n",
    "word3 = filter_out(word2[0])"
   ]
  }
 ],
 "metadata": {
  "kernelspec": {
   "display_name": "Python 3",
   "language": "python",
   "name": "python3"
  },
  "language_info": {
   "codemirror_mode": {
    "name": "ipython",
    "version": 3
   },
   "file_extension": ".py",
   "mimetype": "text/x-python",
   "name": "python",
   "nbconvert_exporter": "python",
   "pygments_lexer": "ipython3",
   "version": "3.8.8"
  }
 },
 "nbformat": 4,
 "nbformat_minor": 5
}
