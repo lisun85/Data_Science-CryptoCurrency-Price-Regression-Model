{
 "cells": [
  {
   "cell_type": "code",
   "execution_count": 1,
   "id": "91ad3e49",
   "metadata": {},
   "outputs": [],
   "source": [
    "from __future__ import division, print_function "
   ]
  },
  {
   "cell_type": "code",
   "execution_count": 3,
   "id": "8bb60480",
   "metadata": {},
   "outputs": [],
   "source": [
    "import pandas as pd\n",
    "import numpy as np\n",
    "import matplotlib.pyplot as plt\n",
    "import seaborn as sns\n",
    "sns.set()\n",
    "\n",
    "%matplotlib inline"
   ]
  },
  {
   "cell_type": "code",
   "execution_count": 4,
   "id": "29b6a166",
   "metadata": {},
   "outputs": [],
   "source": [
    "from sklearn.datasets import load_diabetes\n",
    "from sklearn.linear_model import Lasso, Ridge, ElasticNet, LinearRegression\n",
    "\n",
    "from sklearn.model_selection import (cross_val_score, train_test_split, \n",
    "                                     KFold, GridSearchCV)"
   ]
  },
  {
   "cell_type": "code",
   "execution_count": 7,
   "id": "281b751d",
   "metadata": {},
   "outputs": [],
   "source": [
    "#Load Data"
   ]
  },
  {
   "cell_type": "code",
   "execution_count": 8,
   "id": "2de0c439",
   "metadata": {},
   "outputs": [],
   "source": [
    "diabetes = load_diabetes()"
   ]
  },
  {
   "cell_type": "code",
   "execution_count": 18,
   "id": "ca84858f",
   "metadata": {},
   "outputs": [
    {
     "data": {
      "text/plain": [
       "array([151.,  75., 141., 206., 135.,  97., 138.,  63., 110., 310., 101.,\n",
       "        69., 179., 185., 118., 171., 166., 144.,  97., 168.,  68.,  49.,\n",
       "        68., 245., 184., 202., 137.,  85., 131., 283., 129.,  59., 341.,\n",
       "        87.,  65., 102., 265., 276., 252.,  90., 100.,  55.,  61.,  92.,\n",
       "       259.,  53., 190., 142.,  75., 142., 155., 225.,  59., 104., 182.,\n",
       "       128.,  52.,  37., 170., 170.,  61., 144.,  52., 128.,  71., 163.,\n",
       "       150.,  97., 160., 178.,  48., 270., 202., 111.,  85.,  42., 170.,\n",
       "       200., 252., 113., 143.,  51.,  52., 210.,  65., 141.,  55., 134.,\n",
       "        42., 111.,  98., 164.,  48.,  96.,  90., 162., 150., 279.,  92.,\n",
       "        83., 128., 102., 302., 198.,  95.,  53., 134., 144., 232.,  81.,\n",
       "       104.,  59., 246., 297., 258., 229., 275., 281., 179., 200., 200.,\n",
       "       173., 180.,  84., 121., 161.,  99., 109., 115., 268., 274., 158.,\n",
       "       107.,  83., 103., 272.,  85., 280., 336., 281., 118., 317., 235.,\n",
       "        60., 174., 259., 178., 128.,  96., 126., 288.,  88., 292.,  71.,\n",
       "       197., 186.,  25.,  84.,  96., 195.,  53., 217., 172., 131., 214.,\n",
       "        59.,  70., 220., 268., 152.,  47.,  74., 295., 101., 151., 127.,\n",
       "       237., 225.,  81., 151., 107.,  64., 138., 185., 265., 101., 137.,\n",
       "       143., 141.,  79., 292., 178.,  91., 116.,  86., 122.,  72., 129.,\n",
       "       142.,  90., 158.,  39., 196., 222., 277.,  99., 196., 202., 155.,\n",
       "        77., 191.,  70.,  73.,  49.,  65., 263., 248., 296., 214., 185.,\n",
       "        78.,  93., 252., 150.,  77., 208.,  77., 108., 160.,  53., 220.,\n",
       "       154., 259.,  90., 246., 124.,  67.,  72., 257., 262., 275., 177.,\n",
       "        71.,  47., 187., 125.,  78.,  51., 258., 215., 303., 243.,  91.,\n",
       "       150., 310., 153., 346.,  63.,  89.,  50.,  39., 103., 308., 116.,\n",
       "       145.,  74.,  45., 115., 264.,  87., 202., 127., 182., 241.,  66.,\n",
       "        94., 283.,  64., 102., 200., 265.,  94., 230., 181., 156., 233.,\n",
       "        60., 219.,  80.,  68., 332., 248.,  84., 200.,  55.,  85.,  89.,\n",
       "        31., 129.,  83., 275.,  65., 198., 236., 253., 124.,  44., 172.,\n",
       "       114., 142., 109., 180., 144., 163., 147.,  97., 220., 190., 109.,\n",
       "       191., 122., 230., 242., 248., 249., 192., 131., 237.,  78., 135.,\n",
       "       244., 199., 270., 164.,  72.,  96., 306.,  91., 214.,  95., 216.,\n",
       "       263., 178., 113., 200., 139., 139.,  88., 148.,  88., 243.,  71.,\n",
       "        77., 109., 272.,  60.,  54., 221.,  90., 311., 281., 182., 321.,\n",
       "        58., 262., 206., 233., 242., 123., 167.,  63., 197.,  71., 168.,\n",
       "       140., 217., 121., 235., 245.,  40.,  52., 104., 132.,  88.,  69.,\n",
       "       219.,  72., 201., 110.,  51., 277.,  63., 118.,  69., 273., 258.,\n",
       "        43., 198., 242., 232., 175.,  93., 168., 275., 293., 281.,  72.,\n",
       "       140., 189., 181., 209., 136., 261., 113., 131., 174., 257.,  55.,\n",
       "        84.,  42., 146., 212., 233.,  91., 111., 152., 120.,  67., 310.,\n",
       "        94., 183.,  66., 173.,  72.,  49.,  64.,  48., 178., 104., 132.,\n",
       "       220.,  57.])"
      ]
     },
     "execution_count": 18,
     "metadata": {},
     "output_type": "execute_result"
    }
   ],
   "source": [
    "diabetes.target"
   ]
  },
  {
   "cell_type": "code",
   "execution_count": 12,
   "id": "4f2eb533",
   "metadata": {},
   "outputs": [
    {
     "data": {
      "text/plain": [
       "(442, 10)"
      ]
     },
     "execution_count": 12,
     "metadata": {},
     "output_type": "execute_result"
    }
   ],
   "source": [
    "diabetes.data.shape"
   ]
  },
  {
   "cell_type": "code",
   "execution_count": 13,
   "id": "ed8672ee",
   "metadata": {},
   "outputs": [],
   "source": [
    "### Build a Hold Out Set to test different Models"
   ]
  },
  {
   "cell_type": "code",
   "execution_count": 15,
   "id": "c394b8bb",
   "metadata": {},
   "outputs": [],
   "source": [
    "X_train, X_holdout, y_train, y_holdout = train_test_split(\n",
    "    diabetes.data, diabetes.target, test_size=0.1, random_state=42)"
   ]
  },
  {
   "cell_type": "code",
   "execution_count": 16,
   "id": "9c8df750",
   "metadata": {},
   "outputs": [],
   "source": [
    "#Split Training Data into Multiple Folds"
   ]
  },
  {
   "cell_type": "code",
   "execution_count": 19,
   "id": "2c5c972b",
   "metadata": {},
   "outputs": [],
   "source": [
    "# Notice that we are splitting the X_train data into 5 Folds\n",
    "\n",
    "kfold = KFold(n_splits=5, shuffle=True, random_state=0)"
   ]
  },
  {
   "cell_type": "code",
   "execution_count": 22,
   "id": "71a98bb0",
   "metadata": {},
   "outputs": [],
   "source": [
    "#Baseline: Linear Regression"
   ]
  },
  {
   "cell_type": "code",
   "execution_count": 21,
   "id": "c5762090",
   "metadata": {},
   "outputs": [
    {
     "name": "stdout",
     "output_type": "stream",
     "text": [
      "[0.38015962 0.41985738 0.55536535 0.48203479 0.52900323]\n",
      "Linear Reg Mean Score:  0.47328407543781364\n"
     ]
    },
    {
     "data": {
      "text/plain": [
       "LinearRegression()"
      ]
     },
     "execution_count": 21,
     "metadata": {},
     "output_type": "execute_result"
    }
   ],
   "source": [
    "lin_reg_est = LinearRegression()\n",
    "\n",
    "scores = cross_val_score(lin_reg_est, X_train, y_train, cv=kfold)\n",
    "print(scores)\n",
    "print(\"Linear Reg Mean Score: \", np.mean(scores))\n",
    "\n",
    "# Build the Model\n",
    "lin_reg_est.fit(X_train, y_train)"
   ]
  },
  {
   "cell_type": "code",
   "execution_count": 23,
   "id": "8fda7d32",
   "metadata": {},
   "outputs": [],
   "source": [
    "#Evaluating Model"
   ]
  },
  {
   "cell_type": "code",
   "execution_count": 24,
   "id": "9e21bac1",
   "metadata": {},
   "outputs": [
    {
     "data": {
      "text/plain": [
       "[<matplotlib.lines.Line2D at 0x7f88b42408e0>]"
      ]
     },
     "execution_count": 24,
     "metadata": {},
     "output_type": "execute_result"
    },
    {
     "data": {
      "image/png": "[encoded data removed]",
      "text/plain": [
       "<Figure size 432x288 with 1 Axes>"
      ]
     },
     "metadata": {
      "needs_background": "light"
     },
     "output_type": "display_data"
    }
   ],
   "source": [
    "# Fitted vs. Actual\n",
    "y_train_pred = lin_reg_est.predict(X_train)\n",
    "\n",
    "plt.scatter(y_train, y_train_pred, alpha=0.2)\n",
    "plt.plot([0, 400], [0, 400])"
   ]
  },
  {
   "cell_type": "code",
   "execution_count": 25,
   "id": "1a52df3a",
   "metadata": {},
   "outputs": [
    {
     "data": {
      "text/plain": [
       "[<matplotlib.lines.Line2D at 0x7f88b44f2fa0>]"
      ]
     },
     "execution_count": 25,
     "metadata": {},
     "output_type": "execute_result"
    },
    {
     "data": {
      "image/png": "[encoded data removed]",
      "text/plain": [
       "<Figure size 432x288 with 1 Axes>"
      ]
     },
     "metadata": {
      "needs_background": "light"
     },
     "output_type": "display_data"
    }
   ],
   "source": [
    "# Fitted vs. Actual\n",
    "y_test_pred = lin_reg_est.predict(X_holdout)\n",
    "\n",
    "plt.scatter(y_holdout, y_test_pred)\n",
    "plt.plot([0, 400], [0, 400])"
   ]
  },
  {
   "cell_type": "code",
   "execution_count": 26,
   "id": "c67047d7",
   "metadata": {},
   "outputs": [
    {
     "data": {
      "text/plain": [
       "Text(0.5, 1.0, 'Residuals vs. Predictions')"
      ]
     },
     "execution_count": 26,
     "metadata": {},
     "output_type": "execute_result"
    },
    {
     "data": {
      "image/png": "[encoded data removed]",
      "text/plain": [
       "<Figure size 432x288 with 1 Axes>"
      ]
     },
     "metadata": {
      "needs_background": "light"
     },
     "output_type": "display_data"
    }
   ],
   "source": [
    "# Plot Residuals vs. predicted\n",
    "\n",
    "lin_reg_residuals = y_train - y_train_pred\n",
    "\n",
    "plt.scatter(y_train_pred, lin_reg_residuals)\n",
    "plt.plot([0,400], [0, 0])\n",
    "plt.title(\"Residuals vs. Predictions\")"
   ]
  },
  {
   "cell_type": "code",
   "execution_count": 27,
   "id": "d81aa76d",
   "metadata": {},
   "outputs": [],
   "source": [
    "#Lasso"
   ]
  },
  {
   "cell_type": "code",
   "execution_count": 30,
   "id": "be9819ef",
   "metadata": {},
   "outputs": [
    {
     "name": "stdout",
     "output_type": "stream",
     "text": [
      "Lasso Model:\n"
     ]
    },
    {
     "data": {
      "image/png": "[encoded data removed]",
      "text/plain": [
       "<Figure size 432x288 with 1 Axes>"
      ]
     },
     "metadata": {
      "needs_background": "light"
     },
     "output_type": "display_data"
    }
   ],
   "source": [
    "print(\"Lasso Model:\")\n",
    "params = {\n",
    "    \"alpha\": np.logspace(-4, -.1, 20)\n",
    "}\n",
    "\n",
    "grid_est = GridSearchCV(Lasso(), param_grid=params, cv=kfold, \n",
    "                        return_train_score=False)\n",
    "grid_est.fit(X_train, y_train)\n",
    "df = pd.DataFrame(grid_est.cv_results_)\n",
    "df[\"alpha\"] = df.params.apply(lambda val: val[\"alpha\"])\n",
    "plt.plot(np.log(df.alpha), df.mean_test_score);"
   ]
  },
  {
   "cell_type": "code",
   "execution_count": 31,
   "id": "59c7435e",
   "metadata": {},
   "outputs": [
    {
     "data": {
      "text/html": [
       "<div>\n",
       "<style scoped>\n",
       "    .dataframe tbody tr th:only-of-type {\n",
       "        vertical-align: middle;\n",
       "    }\n",
       "\n",
       "    .dataframe tbody tr th {\n",
       "        vertical-align: top;\n",
       "    }\n",
       "\n",
       "    .dataframe thead th {\n",
       "        text-align: right;\n",
       "    }\n",
       "</style>\n",
       "<table border=\"1\" class=\"dataframe\">\n",
       "  <thead>\n",
       "    <tr style=\"text-align: right;\">\n",
       "      <th></th>\n",
       "      <th>mean_fit_time</th>\n",
       "      <th>std_fit_time</th>\n",
       "      <th>mean_score_time</th>\n",
       "      <th>std_score_time</th>\n",
       "      <th>param_alpha</th>\n",
       "      <th>params</th>\n",
       "      <th>split0_test_score</th>\n",
       "      <th>split1_test_score</th>\n",
       "      <th>split2_test_score</th>\n",
       "      <th>split3_test_score</th>\n",
       "      <th>split4_test_score</th>\n",
       "      <th>mean_test_score</th>\n",
       "      <th>std_test_score</th>\n",
       "      <th>rank_test_score</th>\n",
       "      <th>alpha</th>\n",
       "    </tr>\n",
       "  </thead>\n",
       "  <tbody>\n",
       "    <tr>\n",
       "      <th>0</th>\n",
       "      <td>0.001874</td>\n",
       "      <td>0.000245</td>\n",
       "      <td>0.000490</td>\n",
       "      <td>0.000051</td>\n",
       "      <td>0.0001</td>\n",
       "      <td>{'alpha': 0.0001}</td>\n",
       "      <td>0.380236</td>\n",
       "      <td>0.419919</td>\n",
       "      <td>0.555324</td>\n",
       "      <td>0.481989</td>\n",
       "      <td>0.529046</td>\n",
       "      <td>0.473303</td>\n",
       "      <td>0.065455</td>\n",
       "      <td>10</td>\n",
       "      <td>0.000100</td>\n",
       "    </tr>\n",
       "    <tr>\n",
       "      <th>1</th>\n",
       "      <td>0.001428</td>\n",
       "      <td>0.000316</td>\n",
       "      <td>0.000339</td>\n",
       "      <td>0.000059</td>\n",
       "      <td>0.00016</td>\n",
       "      <td>{'alpha': 0.0001604217161115324}</td>\n",
       "      <td>0.380281</td>\n",
       "      <td>0.419956</td>\n",
       "      <td>0.555299</td>\n",
       "      <td>0.481961</td>\n",
       "      <td>0.529072</td>\n",
       "      <td>0.473314</td>\n",
       "      <td>0.065433</td>\n",
       "      <td>9</td>\n",
       "      <td>0.000160</td>\n",
       "    </tr>\n",
       "    <tr>\n",
       "      <th>2</th>\n",
       "      <td>0.000970</td>\n",
       "      <td>0.000097</td>\n",
       "      <td>0.000273</td>\n",
       "      <td>0.000071</td>\n",
       "      <td>0.000257</td>\n",
       "      <td>{'alpha': 0.000257351270001691}</td>\n",
       "      <td>0.380354</td>\n",
       "      <td>0.420014</td>\n",
       "      <td>0.555258</td>\n",
       "      <td>0.481942</td>\n",
       "      <td>0.529113</td>\n",
       "      <td>0.473336</td>\n",
       "      <td>0.065399</td>\n",
       "      <td>8</td>\n",
       "      <td>0.000257</td>\n",
       "    </tr>\n",
       "    <tr>\n",
       "      <th>3</th>\n",
       "      <td>0.000931</td>\n",
       "      <td>0.000041</td>\n",
       "      <td>0.000224</td>\n",
       "      <td>0.000007</td>\n",
       "      <td>0.000413</td>\n",
       "      <td>{'alpha': 0.000412847323771536}</td>\n",
       "      <td>0.380469</td>\n",
       "      <td>0.420106</td>\n",
       "      <td>0.555191</td>\n",
       "      <td>0.481970</td>\n",
       "      <td>0.529178</td>\n",
       "      <td>0.473383</td>\n",
       "      <td>0.065347</td>\n",
       "      <td>7</td>\n",
       "      <td>0.000413</td>\n",
       "    </tr>\n",
       "    <tr>\n",
       "      <th>4</th>\n",
       "      <td>0.001325</td>\n",
       "      <td>0.000219</td>\n",
       "      <td>0.000441</td>\n",
       "      <td>0.000202</td>\n",
       "      <td>0.000662</td>\n",
       "      <td>{'alpha': 0.0006622967617148325}</td>\n",
       "      <td>0.380649</td>\n",
       "      <td>0.420250</td>\n",
       "      <td>0.555077</td>\n",
       "      <td>0.481927</td>\n",
       "      <td>0.529280</td>\n",
       "      <td>0.473437</td>\n",
       "      <td>0.065260</td>\n",
       "      <td>6</td>\n",
       "      <td>0.000662</td>\n",
       "    </tr>\n",
       "    <tr>\n",
       "      <th>5</th>\n",
       "      <td>0.000871</td>\n",
       "      <td>0.000028</td>\n",
       "      <td>0.000232</td>\n",
       "      <td>0.000013</td>\n",
       "      <td>0.001062</td>\n",
       "      <td>{'alpha': 0.001062467830894041}</td>\n",
       "      <td>0.380928</td>\n",
       "      <td>0.420470</td>\n",
       "      <td>0.554883</td>\n",
       "      <td>0.481853</td>\n",
       "      <td>0.529437</td>\n",
       "      <td>0.473514</td>\n",
       "      <td>0.065121</td>\n",
       "      <td>5</td>\n",
       "      <td>0.001062</td>\n",
       "    </tr>\n",
       "    <tr>\n",
       "      <th>6</th>\n",
       "      <td>0.001006</td>\n",
       "      <td>0.000211</td>\n",
       "      <td>0.000367</td>\n",
       "      <td>0.000149</td>\n",
       "      <td>0.001704</td>\n",
       "      <td>{'alpha': 0.0017044291274531946}</td>\n",
       "      <td>0.381352</td>\n",
       "      <td>0.420796</td>\n",
       "      <td>0.554541</td>\n",
       "      <td>0.481721</td>\n",
       "      <td>0.529672</td>\n",
       "      <td>0.473616</td>\n",
       "      <td>0.064899</td>\n",
       "      <td>4</td>\n",
       "      <td>0.001704</td>\n",
       "    </tr>\n",
       "    <tr>\n",
       "      <th>7</th>\n",
       "      <td>0.000805</td>\n",
       "      <td>0.000069</td>\n",
       "      <td>0.000226</td>\n",
       "      <td>0.000015</td>\n",
       "      <td>0.002734</td>\n",
       "      <td>{'alpha': 0.002734274456165233}</td>\n",
       "      <td>0.381965</td>\n",
       "      <td>0.421250</td>\n",
       "      <td>0.553910</td>\n",
       "      <td>0.481475</td>\n",
       "      <td>0.530007</td>\n",
       "      <td>0.473721</td>\n",
       "      <td>0.064546</td>\n",
       "      <td>2</td>\n",
       "      <td>0.002734</td>\n",
       "    </tr>\n",
       "    <tr>\n",
       "      <th>8</th>\n",
       "      <td>0.000821</td>\n",
       "      <td>0.000133</td>\n",
       "      <td>0.000273</td>\n",
       "      <td>0.000056</td>\n",
       "      <td>0.004386</td>\n",
       "      <td>{'alpha': 0.004386370005779536}</td>\n",
       "      <td>0.382782</td>\n",
       "      <td>0.421800</td>\n",
       "      <td>0.553117</td>\n",
       "      <td>0.480989</td>\n",
       "      <td>0.530436</td>\n",
       "      <td>0.473825</td>\n",
       "      <td>0.064092</td>\n",
       "      <td>1</td>\n",
       "      <td>0.004386</td>\n",
       "    </tr>\n",
       "    <tr>\n",
       "      <th>9</th>\n",
       "      <td>0.000658</td>\n",
       "      <td>0.000095</td>\n",
       "      <td>0.000285</td>\n",
       "      <td>0.000097</td>\n",
       "      <td>0.007037</td>\n",
       "      <td>{'alpha': 0.007036690038273056}</td>\n",
       "      <td>0.383302</td>\n",
       "      <td>0.422739</td>\n",
       "      <td>0.551553</td>\n",
       "      <td>0.479978</td>\n",
       "      <td>0.530571</td>\n",
       "      <td>0.473629</td>\n",
       "      <td>0.063409</td>\n",
       "      <td>3</td>\n",
       "      <td>0.007037</td>\n",
       "    </tr>\n",
       "    <tr>\n",
       "      <th>10</th>\n",
       "      <td>0.000558</td>\n",
       "      <td>0.000067</td>\n",
       "      <td>0.000213</td>\n",
       "      <td>0.000005</td>\n",
       "      <td>0.011288</td>\n",
       "      <td>{'alpha': 0.011288378916846895}</td>\n",
       "      <td>0.383070</td>\n",
       "      <td>0.423741</td>\n",
       "      <td>0.548182</td>\n",
       "      <td>0.477784</td>\n",
       "      <td>0.530344</td>\n",
       "      <td>0.472624</td>\n",
       "      <td>0.062413</td>\n",
       "      <td>11</td>\n",
       "      <td>0.011288</td>\n",
       "    </tr>\n",
       "    <tr>\n",
       "      <th>11</th>\n",
       "      <td>0.000456</td>\n",
       "      <td>0.000045</td>\n",
       "      <td>0.000223</td>\n",
       "      <td>0.000012</td>\n",
       "      <td>0.018109</td>\n",
       "      <td>{'alpha': 0.018109011179578204}</td>\n",
       "      <td>0.386846</td>\n",
       "      <td>0.424352</td>\n",
       "      <td>0.545271</td>\n",
       "      <td>0.476320</td>\n",
       "      <td>0.529537</td>\n",
       "      <td>0.472465</td>\n",
       "      <td>0.060363</td>\n",
       "      <td>12</td>\n",
       "      <td>0.018109</td>\n",
       "    </tr>\n",
       "    <tr>\n",
       "      <th>12</th>\n",
       "      <td>0.000552</td>\n",
       "      <td>0.000097</td>\n",
       "      <td>0.000253</td>\n",
       "      <td>0.000060</td>\n",
       "      <td>0.029051</td>\n",
       "      <td>{'alpha': 0.029050786505108613}</td>\n",
       "      <td>0.393845</td>\n",
       "      <td>0.425185</td>\n",
       "      <td>0.540874</td>\n",
       "      <td>0.474389</td>\n",
       "      <td>0.527955</td>\n",
       "      <td>0.472450</td>\n",
       "      <td>0.056884</td>\n",
       "      <td>13</td>\n",
       "      <td>0.029051</td>\n",
       "    </tr>\n",
       "    <tr>\n",
       "      <th>13</th>\n",
       "      <td>0.000478</td>\n",
       "      <td>0.000054</td>\n",
       "      <td>0.000237</td>\n",
       "      <td>0.000029</td>\n",
       "      <td>0.046604</td>\n",
       "      <td>{'alpha': 0.04660377025539271}</td>\n",
       "      <td>0.404569</td>\n",
       "      <td>0.426071</td>\n",
       "      <td>0.535435</td>\n",
       "      <td>0.470815</td>\n",
       "      <td>0.524685</td>\n",
       "      <td>0.472315</td>\n",
       "      <td>0.051879</td>\n",
       "      <td>15</td>\n",
       "      <td>0.046604</td>\n",
       "    </tr>\n",
       "    <tr>\n",
       "      <th>14</th>\n",
       "      <td>0.000426</td>\n",
       "      <td>0.000048</td>\n",
       "      <td>0.000215</td>\n",
       "      <td>0.000004</td>\n",
       "      <td>0.074763</td>\n",
       "      <td>{'alpha': 0.07476256801637687}</td>\n",
       "      <td>0.420450</td>\n",
       "      <td>0.427944</td>\n",
       "      <td>0.526906</td>\n",
       "      <td>0.466431</td>\n",
       "      <td>0.520408</td>\n",
       "      <td>0.472428</td>\n",
       "      <td>0.044691</td>\n",
       "      <td>14</td>\n",
       "      <td>0.074763</td>\n",
       "    </tr>\n",
       "    <tr>\n",
       "      <th>15</th>\n",
       "      <td>0.000540</td>\n",
       "      <td>0.000128</td>\n",
       "      <td>0.000254</td>\n",
       "      <td>0.000066</td>\n",
       "      <td>0.119935</td>\n",
       "      <td>{'alpha': 0.11993539462092344}</td>\n",
       "      <td>0.440517</td>\n",
       "      <td>0.429945</td>\n",
       "      <td>0.511175</td>\n",
       "      <td>0.464262</td>\n",
       "      <td>0.512452</td>\n",
       "      <td>0.471670</td>\n",
       "      <td>0.034612</td>\n",
       "      <td>16</td>\n",
       "      <td>0.119935</td>\n",
       "    </tr>\n",
       "    <tr>\n",
       "      <th>16</th>\n",
       "      <td>0.000424</td>\n",
       "      <td>0.000058</td>\n",
       "      <td>0.000216</td>\n",
       "      <td>0.000009</td>\n",
       "      <td>0.192402</td>\n",
       "      <td>{'alpha': 0.19240241827602392}</td>\n",
       "      <td>0.450406</td>\n",
       "      <td>0.428187</td>\n",
       "      <td>0.485405</td>\n",
       "      <td>0.462945</td>\n",
       "      <td>0.495287</td>\n",
       "      <td>0.464446</td>\n",
       "      <td>0.024102</td>\n",
       "      <td>17</td>\n",
       "      <td>0.192402</td>\n",
       "    </tr>\n",
       "    <tr>\n",
       "      <th>17</th>\n",
       "      <td>0.000388</td>\n",
       "      <td>0.000008</td>\n",
       "      <td>0.000213</td>\n",
       "      <td>0.000005</td>\n",
       "      <td>0.308655</td>\n",
       "      <td>{'alpha': 0.30865526123848624}</td>\n",
       "      <td>0.448252</td>\n",
       "      <td>0.421931</td>\n",
       "      <td>0.451978</td>\n",
       "      <td>0.455064</td>\n",
       "      <td>0.469346</td>\n",
       "      <td>0.449314</td>\n",
       "      <td>0.015443</td>\n",
       "      <td>18</td>\n",
       "      <td>0.308655</td>\n",
       "    </tr>\n",
       "    <tr>\n",
       "      <th>18</th>\n",
       "      <td>0.000382</td>\n",
       "      <td>0.000007</td>\n",
       "      <td>0.000213</td>\n",
       "      <td>0.000004</td>\n",
       "      <td>0.49515</td>\n",
       "      <td>{'alpha': 0.4951500669473131}</td>\n",
       "      <td>0.439861</td>\n",
       "      <td>0.403623</td>\n",
       "      <td>0.410122</td>\n",
       "      <td>0.433989</td>\n",
       "      <td>0.444038</td>\n",
       "      <td>0.426327</td>\n",
       "      <td>0.016332</td>\n",
       "      <td>19</td>\n",
       "      <td>0.495150</td>\n",
       "    </tr>\n",
       "    <tr>\n",
       "      <th>19</th>\n",
       "      <td>0.000483</td>\n",
       "      <td>0.000098</td>\n",
       "      <td>0.000223</td>\n",
       "      <td>0.000013</td>\n",
       "      <td>0.794328</td>\n",
       "      <td>{'alpha': 0.7943282347242815}</td>\n",
       "      <td>0.399904</td>\n",
       "      <td>0.359074</td>\n",
       "      <td>0.349070</td>\n",
       "      <td>0.384095</td>\n",
       "      <td>0.387776</td>\n",
       "      <td>0.375984</td>\n",
       "      <td>0.018907</td>\n",
       "      <td>20</td>\n",
       "      <td>0.794328</td>\n",
       "    </tr>\n",
       "  </tbody>\n",
       "</table>\n",
       "</div>"
      ],
      "text/plain": [
       "    mean_fit_time  std_fit_time  mean_score_time  std_score_time param_alpha  \\\n",
       "0        0.001874      0.000245         0.000490        0.000051      0.0001   \n",
       "1        0.001428      0.000316         0.000339        0.000059     0.00016   \n",
       "2        0.000970      0.000097         0.000273        0.000071    0.000257   \n",
       "3        0.000931      0.000041         0.000224        0.000007    0.000413   \n",
       "4        0.001325      0.000219         0.000441        0.000202    0.000662   \n",
       "5        0.000871      0.000028         0.000232        0.000013    0.001062   \n",
       "6        0.001006      0.000211         0.000367        0.000149    0.001704   \n",
       "7        0.000805      0.000069         0.000226        0.000015    0.002734   \n",
       "8        0.000821      0.000133         0.000273        0.000056    0.004386   \n",
       "9        0.000658      0.000095         0.000285        0.000097    0.007037   \n",
       "10       0.000558      0.000067         0.000213        0.000005    0.011288   \n",
       "11       0.000456      0.000045         0.000223        0.000012    0.018109   \n",
       "12       0.000552      0.000097         0.000253        0.000060    0.029051   \n",
       "13       0.000478      0.000054         0.000237        0.000029    0.046604   \n",
       "14       0.000426      0.000048         0.000215        0.000004    0.074763   \n",
       "15       0.000540      0.000128         0.000254        0.000066    0.119935   \n",
       "16       0.000424      0.000058         0.000216        0.000009    0.192402   \n",
       "17       0.000388      0.000008         0.000213        0.000005    0.308655   \n",
       "18       0.000382      0.000007         0.000213        0.000004     0.49515   \n",
       "19       0.000483      0.000098         0.000223        0.000013    0.794328   \n",
       "\n",
       "                              params  split0_test_score  split1_test_score  \\\n",
       "0                  {'alpha': 0.0001}           0.380236           0.419919   \n",
       "1   {'alpha': 0.0001604217161115324}           0.380281           0.419956   \n",
       "2    {'alpha': 0.000257351270001691}           0.380354           0.420014   \n",
       "3    {'alpha': 0.000412847323771536}           0.380469           0.420106   \n",
       "4   {'alpha': 0.0006622967617148325}           0.380649           0.420250   \n",
       "5    {'alpha': 0.001062467830894041}           0.380928           0.420470   \n",
       "6   {'alpha': 0.0017044291274531946}           0.381352           0.420796   \n",
       "7    {'alpha': 0.002734274456165233}           0.381965           0.421250   \n",
       "8    {'alpha': 0.004386370005779536}           0.382782           0.421800   \n",
       "9    {'alpha': 0.007036690038273056}           0.383302           0.422739   \n",
       "10   {'alpha': 0.011288378916846895}           0.383070           0.423741   \n",
       "11   {'alpha': 0.018109011179578204}           0.386846           0.424352   \n",
       "12   {'alpha': 0.029050786505108613}           0.393845           0.425185   \n",
       "13    {'alpha': 0.04660377025539271}           0.404569           0.426071   \n",
       "14    {'alpha': 0.07476256801637687}           0.420450           0.427944   \n",
       "15    {'alpha': 0.11993539462092344}           0.440517           0.429945   \n",
       "16    {'alpha': 0.19240241827602392}           0.450406           0.428187   \n",
       "17    {'alpha': 0.30865526123848624}           0.448252           0.421931   \n",
       "18     {'alpha': 0.4951500669473131}           0.439861           0.403623   \n",
       "19     {'alpha': 0.7943282347242815}           0.399904           0.359074   \n",
       "\n",
       "    split2_test_score  split3_test_score  split4_test_score  mean_test_score  \\\n",
       "0            0.555324           0.481989           0.529046         0.473303   \n",
       "1            0.555299           0.481961           0.529072         0.473314   \n",
       "2            0.555258           0.481942           0.529113         0.473336   \n",
       "3            0.555191           0.481970           0.529178         0.473383   \n",
       "4            0.555077           0.481927           0.529280         0.473437   \n",
       "5            0.554883           0.481853           0.529437         0.473514   \n",
       "6            0.554541           0.481721           0.529672         0.473616   \n",
       "7            0.553910           0.481475           0.530007         0.473721   \n",
       "8            0.553117           0.480989           0.530436         0.473825   \n",
       "9            0.551553           0.479978           0.530571         0.473629   \n",
       "10           0.548182           0.477784           0.530344         0.472624   \n",
       "11           0.545271           0.476320           0.529537         0.472465   \n",
       "12           0.540874           0.474389           0.527955         0.472450   \n",
       "13           0.535435           0.470815           0.524685         0.472315   \n",
       "14           0.526906           0.466431           0.520408         0.472428   \n",
       "15           0.511175           0.464262           0.512452         0.471670   \n",
       "16           0.485405           0.462945           0.495287         0.464446   \n",
       "17           0.451978           0.455064           0.469346         0.449314   \n",
       "18           0.410122           0.433989           0.444038         0.426327   \n",
       "19           0.349070           0.384095           0.387776         0.375984   \n",
       "\n",
       "    std_test_score  rank_test_score     alpha  \n",
       "0         0.065455               10  0.000100  \n",
       "1         0.065433                9  0.000160  \n",
       "2         0.065399                8  0.000257  \n",
       "3         0.065347                7  0.000413  \n",
       "4         0.065260                6  0.000662  \n",
       "5         0.065121                5  0.001062  \n",
       "6         0.064899                4  0.001704  \n",
       "7         0.064546                2  0.002734  \n",
       "8         0.064092                1  0.004386  \n",
       "9         0.063409                3  0.007037  \n",
       "10        0.062413               11  0.011288  \n",
       "11        0.060363               12  0.018109  \n",
       "12        0.056884               13  0.029051  \n",
       "13        0.051879               15  0.046604  \n",
       "14        0.044691               14  0.074763  \n",
       "15        0.034612               16  0.119935  \n",
       "16        0.024102               17  0.192402  \n",
       "17        0.015443               18  0.308655  \n",
       "18        0.016332               19  0.495150  \n",
       "19        0.018907               20  0.794328  "
      ]
     },
     "execution_count": 31,
     "metadata": {},
     "output_type": "execute_result"
    }
   ],
   "source": [
    "dfe"
   ]
  },
  {
   "cell_type": "code",
   "execution_count": null,
   "id": "523be439",
   "metadata": {},
   "outputs": [],
   "source": []
  }
 ],
 "metadata": {
  "kernelspec": {
   "display_name": "Python 3",
   "language": "python",
   "name": "python3"
  },
  "language_info": {
   "codemirror_mode": {
    "name": "ipython",
    "version": 3
   },
   "file_extension": ".py",
   "mimetype": "text/x-python",
   "name": "python",
   "nbconvert_exporter": "python",
   "pygments_lexer": "ipython3",
   "version": "3.8.8"
  }
 },
 "nbformat": 4,
 "nbformat_minor": 5
}
